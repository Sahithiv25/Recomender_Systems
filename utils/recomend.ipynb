{
 "cells": [
  {
   "cell_type": "code",
   "execution_count": 1,
   "metadata": {},
   "outputs": [
    {
     "data": {
      "text/html": [
       "<div>\n",
       "<style scoped>\n",
       "    .dataframe tbody tr th:only-of-type {\n",
       "        vertical-align: middle;\n",
       "    }\n",
       "\n",
       "    .dataframe tbody tr th {\n",
       "        vertical-align: top;\n",
       "    }\n",
       "\n",
       "    .dataframe thead th {\n",
       "        text-align: right;\n",
       "    }\n",
       "</style>\n",
       "<table border=\"1\" class=\"dataframe\">\n",
       "  <thead>\n",
       "    <tr style=\"text-align: right;\">\n",
       "      <th></th>\n",
       "      <th>Label</th>\n",
       "      <th>Brand</th>\n",
       "      <th>Name</th>\n",
       "      <th>Price</th>\n",
       "      <th>Rank</th>\n",
       "      <th>Ingredients</th>\n",
       "      <th>Combination</th>\n",
       "      <th>Dry</th>\n",
       "      <th>Normal</th>\n",
       "      <th>Oily</th>\n",
       "      <th>Sensitive</th>\n",
       "    </tr>\n",
       "  </thead>\n",
       "  <tbody>\n",
       "    <tr>\n",
       "      <th>56</th>\n",
       "      <td>Moisturizer</td>\n",
       "      <td>ORIGINS</td>\n",
       "      <td>GinZing™ Energy-Boosting Gel Moisturizer</td>\n",
       "      <td>29</td>\n",
       "      <td>4.4</td>\n",
       "      <td>Water, Methyl Trimethicone, Butylene Glycol, G...</td>\n",
       "      <td>1</td>\n",
       "      <td>1</td>\n",
       "      <td>1</td>\n",
       "      <td>1</td>\n",
       "      <td>1</td>\n",
       "    </tr>\n",
       "    <tr>\n",
       "      <th>759</th>\n",
       "      <td>Treatment</td>\n",
       "      <td>MURAD</td>\n",
       "      <td>Pure Skin® Clarifying Dietary Supplement</td>\n",
       "      <td>50</td>\n",
       "      <td>4.1</td>\n",
       "      <td>Vitamin A, Vitamin C, Vitamin E, Vitamin B1, V...</td>\n",
       "      <td>1</td>\n",
       "      <td>0</td>\n",
       "      <td>0</td>\n",
       "      <td>1</td>\n",
       "      <td>0</td>\n",
       "    </tr>\n",
       "    <tr>\n",
       "      <th>1313</th>\n",
       "      <td>Sun protect</td>\n",
       "      <td>NEOGEN DERMALOGY</td>\n",
       "      <td>Day-Light Protection Sun Screen SPF 50 PA+++</td>\n",
       "      <td>30</td>\n",
       "      <td>4.6</td>\n",
       "      <td>Water, Ethylhexyl Methoxycinnamate, Glycerin, ...</td>\n",
       "      <td>1</td>\n",
       "      <td>1</td>\n",
       "      <td>1</td>\n",
       "      <td>1</td>\n",
       "      <td>1</td>\n",
       "    </tr>\n",
       "    <tr>\n",
       "      <th>863</th>\n",
       "      <td>Face Mask</td>\n",
       "      <td>KIEHL'S SINCE 1851</td>\n",
       "      <td>Turmeric &amp; Cranberry Seed Energizing Radiance ...</td>\n",
       "      <td>39</td>\n",
       "      <td>4.5</td>\n",
       "      <td>Water, Kaolin, Sorbitol, Bentonite, Butylene G...</td>\n",
       "      <td>1</td>\n",
       "      <td>1</td>\n",
       "      <td>1</td>\n",
       "      <td>1</td>\n",
       "      <td>1</td>\n",
       "    </tr>\n",
       "    <tr>\n",
       "      <th>773</th>\n",
       "      <td>Treatment</td>\n",
       "      <td>MURAD</td>\n",
       "      <td>Rapid Collagen Infusion</td>\n",
       "      <td>84</td>\n",
       "      <td>4.2</td>\n",
       "      <td>Water, Isodecyl Neopentanoate, Polymethylsilse...</td>\n",
       "      <td>0</td>\n",
       "      <td>0</td>\n",
       "      <td>0</td>\n",
       "      <td>0</td>\n",
       "      <td>0</td>\n",
       "    </tr>\n",
       "  </tbody>\n",
       "</table>\n",
       "</div>"
      ],
      "text/plain": [
       "            Label               Brand   \n",
       "56    Moisturizer             ORIGINS  \\\n",
       "759     Treatment               MURAD   \n",
       "1313  Sun protect    NEOGEN DERMALOGY   \n",
       "863     Face Mask  KIEHL'S SINCE 1851   \n",
       "773     Treatment               MURAD   \n",
       "\n",
       "                                                   Name  Price  Rank   \n",
       "56             GinZing™ Energy-Boosting Gel Moisturizer     29   4.4  \\\n",
       "759            Pure Skin® Clarifying Dietary Supplement     50   4.1   \n",
       "1313       Day-Light Protection Sun Screen SPF 50 PA+++     30   4.6   \n",
       "863   Turmeric & Cranberry Seed Energizing Radiance ...     39   4.5   \n",
       "773                             Rapid Collagen Infusion     84   4.2   \n",
       "\n",
       "                                            Ingredients  Combination  Dry   \n",
       "56    Water, Methyl Trimethicone, Butylene Glycol, G...            1    1  \\\n",
       "759   Vitamin A, Vitamin C, Vitamin E, Vitamin B1, V...            1    0   \n",
       "1313  Water, Ethylhexyl Methoxycinnamate, Glycerin, ...            1    1   \n",
       "863   Water, Kaolin, Sorbitol, Bentonite, Butylene G...            1    1   \n",
       "773   Water, Isodecyl Neopentanoate, Polymethylsilse...            0    0   \n",
       "\n",
       "      Normal  Oily  Sensitive  \n",
       "56         1     1          1  \n",
       "759        0     1          0  \n",
       "1313       1     1          1  \n",
       "863        1     1          1  \n",
       "773        0     0          0  "
      ]
     },
     "metadata": {},
     "output_type": "display_data"
    },
    {
     "data": {
      "text/plain": [
       "Label\n",
       "Moisturizer    298\n",
       "Cleanser       281\n",
       "Face Mask      266\n",
       "Treatment      248\n",
       "Eye cream      209\n",
       "Sun protect    170\n",
       "Name: count, dtype: int64"
      ]
     },
     "execution_count": 1,
     "metadata": {},
     "output_type": "execute_result"
    }
   ],
   "source": [
    "import pandas as pd\n",
    "import numpy as np\n",
    "from sklearn.manifold import TSNE\n",
    "\n",
    "df = pd.read_csv(\"cosmetics.csv\")\n",
    "display(df.sample(5))\n",
    "df.Label.value_counts()"
   ]
  },
  {
   "cell_type": "code",
   "execution_count": 2,
   "metadata": {},
   "outputs": [],
   "source": [
    "moisturizers = df[df.Label == \"Moisturizer\"]\n",
    "moisturizers_dry = moisturizers[moisturizers.Dry==1]\n",
    "moisturizers_dry = moisturizers_dry.reset_index(drop = True)"
   ]
  },
  {
   "cell_type": "code",
   "execution_count": 3,
   "metadata": {},
   "outputs": [
    {
     "name": "stdout",
     "output_type": "stream",
     "text": [
      "the index of Decyl oleate 25\n"
     ]
    }
   ],
   "source": [
    "ingredient_idx = {}\n",
    "c = []\n",
    "idx = 0\n",
    "\n",
    "for i in range(len(moisturizers_dry)):\n",
    "    ingredients = moisturizers_dry[\"Ingredients\"][i]\n",
    "    ingredients_low = ingredients.lower()\n",
    "    tokens = ingredients_low.split(', ')\n",
    "    c.append(tokens)\n",
    "    for ingredients in tokens:\n",
    "        if ingredients not in ingredient_idx:\n",
    "            ingredient_idx[ingredients] = idx\n",
    "            idx +=1\n",
    "\n",
    "print(\"the index of Decyl oleate\", ingredient_idx['decyl oleate'])"
   ]
  },
  {
   "cell_type": "code",
   "execution_count": 4,
   "metadata": {},
   "outputs": [],
   "source": [
    "from sklearn.feature_extraction.text import TfidfVectorizer\n",
    "from sklearn.metrics.pairwise import cosine_similarity\n"
   ]
  },
  {
   "cell_type": "code",
   "execution_count": 5,
   "metadata": {},
   "outputs": [],
   "source": [
    "df = pd.read_csv('cosmetics.csv')\n",
    "\n",
    "\n",
    "df['text'] = df['Name'] + \" \" + df['Ingredients']  # Combine Name and Ingredients\n",
    "documents = df['text'].fillna(\"\").tolist()  # Fill missing values with an empty string"
   ]
  },
  {
   "cell_type": "code",
   "execution_count": 6,
   "metadata": {},
   "outputs": [],
   "source": [
    "from sklearn.feature_extraction.text import TfidfVectorizer\n",
    "\n",
    "# Initialize the TF-IDF Vectorizer\n",
    "tfidf_vectorizer = TfidfVectorizer()\n",
    "\n",
    "# Generate the TF-IDF matrix\n",
    "tfidf_matrix = tfidf_vectorizer.fit_transform(documents)\n"
   ]
  },
  {
   "cell_type": "code",
   "execution_count": 7,
   "metadata": {},
   "outputs": [],
   "source": [
    "from sklearn.metrics.pairwise import cosine_similarity\n",
    "\n",
    "# Calculate cosine similarity matrix\n",
    "cosine_similarities = cosine_similarity(tfidf_matrix)\n"
   ]
  },
  {
   "cell_type": "code",
   "execution_count": 13,
   "metadata": {},
   "outputs": [],
   "source": [
    "def get_recommendations(product_name, skin_type, df, cosine_similarities, top_n=5):\n",
    "    # Map skin types to column names\n",
    "    skin_type_column = {\n",
    "        \"Combination\": \"Combination\",\n",
    "        \"Dry\": \"Dry\",\n",
    "        \"Normal\": \"Normal\",\n",
    "        \"Oily\": \"Oily\",\n",
    "        \"Sensitive\": \"Sensitive\"\n",
    "    }\n",
    "    \n",
    "    # Ensure the skin type exists in the mapping\n",
    "    if skin_type not in skin_type_column:\n",
    "        print(f\"Invalid skin type: {skin_type}\")\n",
    "        return []\n",
    "\n",
    "    # Filter DataFrame based on the specified skin type\n",
    "    try:\n",
    "        filtered_df = df[df[skin_type_column[skin_type]] == 1]\n",
    "    except KeyError as e:\n",
    "        print(f\"Error: {e}. Check if the column names in your DataFrame match the ones in skin_type_column.\")\n",
    "        return []\n",
    "\n",
    "    # Find the index of the product name in the filtered DataFrame\n",
    "    try:\n",
    "        product_index = filtered_df[filtered_df['Name'].str.contains(product_name, case=False)].index[0]\n",
    "    except IndexError:\n",
    "        print(\"Product not found in filtered DataFrame.\")\n",
    "        return [] \n",
    "    \n",
    "    # Calculate similarity scores\n",
    "    similarity_scores = list(enumerate(cosine_similarities[product_index]))\n",
    "    similarity_scores = sorted(similarity_scores, key=lambda x: x[1], reverse=True)\n",
    "    top_recommendations = similarity_scores[1:top_n + 1]\n",
    "\n",
    "    # Retrieve recommended products\n",
    "    recommended_products = df.iloc[[index for index, score in top_recommendations]]\n",
    "    return recommended_products[['Brand', 'Name', 'Price']].to_dict(orient='records')\n"
   ]
  },
  {
   "cell_type": "code",
   "execution_count": null,
   "metadata": {},
   "outputs": [],
   "source": [
    "import json"
   ]
  },
  {
   "cell_type": "code",
   "execution_count": 17,
   "metadata": {},
   "outputs": [
    {
     "name": "stdout",
     "output_type": "stream",
     "text": [
      "Recommended products: [{'Brand': 'SATURDAY SKIN', 'Name': 'Waterfall Glacier Water Cream', 'Price': 39}, {'Brand': 'SATURDAY SKIN', 'Name': 'Quench Intense Hydration Mask', 'Price': 6}, {'Brand': 'SATURDAY SKIN', 'Name': 'Spotlight Brightening Mask', 'Price': 6}, {'Brand': 'SATURDAY SKIN', 'Name': 'Featherweight Daily Moisturizing Cream', 'Price': 49}, {'Brand': 'SATURDAY SKIN', 'Name': 'Wide Awake Brightening Eye Cream', 'Price': 46}]\n"
     ]
    }
   ],
   "source": [
    "product_name = input(\"Enter the product name: \")\n",
    "skin_type = input(\"Enter your skin type (Combination, Dry, Normal, Oily, Sensitive): \")\n",
    "\n",
    "recommendations = get_recommendations(product_name, skin_type, df, cosine_similarities)\n",
    "\n",
    "print(\"Recommended products:\", recommendations)\n",
    "\n",
    "with open('recommendations_output.json', 'w') as f:\n",
    "    json.dump(recommendations, f, indent=4)"
   ]
  },
  {
   "cell_type": "code",
   "execution_count": null,
   "metadata": {},
   "outputs": [],
   "source": []
  }
 ],
 "metadata": {
  "kernelspec": {
   "display_name": "Python 3",
   "language": "python",
   "name": "python3"
  },
  "language_info": {
   "codemirror_mode": {
    "name": "ipython",
    "version": 3
   },
   "file_extension": ".py",
   "mimetype": "text/x-python",
   "name": "python",
   "nbconvert_exporter": "python",
   "pygments_lexer": "ipython3",
   "version": "3.11.3"
  }
 },
 "nbformat": 4,
 "nbformat_minor": 2
}
